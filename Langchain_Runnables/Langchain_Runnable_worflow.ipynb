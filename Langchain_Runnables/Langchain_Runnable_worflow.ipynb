{
 "cells": [
  {
   "cell_type": "code",
   "execution_count": 6,
   "id": "5c90d6be",
   "metadata": {},
   "outputs": [],
   "source": [
    "import random\n",
    "from abc import ABC, abstractmethod"
   ]
  },
  {
   "cell_type": "code",
   "execution_count": 7,
   "id": "c8c54214",
   "metadata": {},
   "outputs": [],
   "source": [
    "class Runnable(ABC):\n",
    "    @abstractmethod\n",
    "    def invoke(input_data):\n",
    "        \"\"\"\n",
    "        Abstract method to be implemented by subclasses.\n",
    "        \"\"\"\n",
    "        pass\n",
    "\n",
    "    "
   ]
  },
  {
   "cell_type": "code",
   "execution_count": 8,
   "id": "26623068",
   "metadata": {},
   "outputs": [],
   "source": [
    "class NakliLLM(Runnable) :\n",
    "    def __init__(self):\n",
    "        print(\"llm created\")\n",
    "\n",
    "    def invoke(self, prompt):\n",
    "        response_list = [\n",
    "            'delhi is the capital of India',\n",
    "            'ipl is the best cricket league in the world',\n",
    "            'India won the 2023 world cup',\n",
    "            'India is the best country in the world',\n",
    "        ]\n",
    "\n",
    "        return {'response':random.choice(response_list)}\n",
    "    \n",
    "\n",
    "    # def predict(slef,prompt):\n",
    "    #     response_list = [\n",
    "    #         'delhi is the capital of India',\n",
    "    #         'ipl is the best cricket league in the world',\n",
    "    #         'India won the 2023 world cup',\n",
    "    #         'India is the best country in the world',\n",
    "    #     ]\n",
    "\n",
    "    #     return {'response':random.choice(response_list)}\n",
    "    \n"
   ]
  },
  {
   "cell_type": "code",
   "execution_count": 9,
   "id": "7c2c1542",
   "metadata": {},
   "outputs": [],
   "source": [
    "class NakliPromptTemplate(Runnable):\n",
    "\n",
    "    def __init__(self,template,input_variables):\n",
    "        self.template = template\n",
    "        self.input_variables = input_variables\n",
    "\n",
    "    def invoke(self,input_dict):\n",
    "        return self.template.format(**input_dict)\n",
    "    \n",
    "    # def format(self,input_dict):\n",
    "    #     return self.template.format(**input_dict)"
   ]
  },
  {
   "cell_type": "code",
   "execution_count": 35,
   "id": "1ac41a17",
   "metadata": {},
   "outputs": [],
   "source": [
    "class NakliSTROuputParser(Runnable):\n",
    "    def __init__(self):\n",
    "        pass\n",
    "\n",
    "    def invoke(self,input_data):\n",
    "        return input_data['response']"
   ]
  },
  {
   "cell_type": "code",
   "execution_count": 11,
   "id": "a019a451",
   "metadata": {},
   "outputs": [],
   "source": [
    "class RunnableConnector(Runnable):\n",
    "    def __init__(self,runnable_list):\n",
    "        self.runnable_list = runnable_list\n",
    "\n",
    "    def invoke(self,input_data):\n",
    "        for runnable in self.runnable_list:\n",
    "            input_data = runnable.invoke(input_data)\n",
    "            \n",
    "        return input_data"
   ]
  },
  {
   "cell_type": "code",
   "execution_count": 12,
   "id": "41ec1034",
   "metadata": {},
   "outputs": [],
   "source": [
    "template = NakliPromptTemplate(\n",
    "    template=\"write a {length} poem about {topic}\",\n",
    "    input_variables=[\"length\", \"topic\"]\n",
    ")"
   ]
  },
  {
   "cell_type": "code",
   "execution_count": 13,
   "id": "6b1e41d7",
   "metadata": {},
   "outputs": [
    {
     "name": "stdout",
     "output_type": "stream",
     "text": [
      "llm created\n"
     ]
    }
   ],
   "source": [
    "llm = NakliLLM()"
   ]
  },
  {
   "cell_type": "code",
   "execution_count": 17,
   "id": "ec17c81d",
   "metadata": {},
   "outputs": [],
   "source": [
    "parser = NakliSTROuputParser()"
   ]
  },
  {
   "cell_type": "code",
   "execution_count": 18,
   "id": "90d90026",
   "metadata": {},
   "outputs": [],
   "source": [
    "chain = RunnableConnector([template,llm,parser])"
   ]
  },
  {
   "cell_type": "code",
   "execution_count": 19,
   "id": "86331099",
   "metadata": {},
   "outputs": [
    {
     "data": {
      "text/plain": [
       "'delhi is the capital of India'"
      ]
     },
     "execution_count": 19,
     "metadata": {},
     "output_type": "execute_result"
    }
   ],
   "source": [
    "chain.invoke({'length':\"short\", 'topic':\"India\"})"
   ]
  },
  {
   "cell_type": "markdown",
   "id": "f89fd7b3",
   "metadata": {},
   "source": [
    "# chain to chain connector"
   ]
  },
  {
   "cell_type": "code",
   "execution_count": 36,
   "id": "1efb3a0a",
   "metadata": {},
   "outputs": [],
   "source": [
    "template1 = NakliPromptTemplate(\n",
    "    template=\"write a joke about {topic}\",\n",
    "    input_variables=[\"topic\"]\n",
    ")"
   ]
  },
  {
   "cell_type": "code",
   "execution_count": 65,
   "id": "60532d67",
   "metadata": {},
   "outputs": [],
   "source": [
    "template2 = NakliPromptTemplate(\n",
    "    template=\"explain the following joke: {response}\",\n",
    "    input_variables=[\"response\"]\n",
    ")"
   ]
  },
  {
   "cell_type": "code",
   "execution_count": 66,
   "id": "1409496a",
   "metadata": {},
   "outputs": [
    {
     "name": "stdout",
     "output_type": "stream",
     "text": [
      "llm created\n"
     ]
    }
   ],
   "source": [
    "llm = NakliLLM()"
   ]
  },
  {
   "cell_type": "code",
   "execution_count": 67,
   "id": "84f0cedb",
   "metadata": {},
   "outputs": [],
   "source": [
    "parser = NakliSTROuputParser()"
   ]
  },
  {
   "cell_type": "code",
   "execution_count": 68,
   "id": "56c085b8",
   "metadata": {},
   "outputs": [],
   "source": [
    "chain1 = RunnableConnector([template1,llm])"
   ]
  },
  {
   "cell_type": "code",
   "execution_count": 69,
   "id": "e24c45d0",
   "metadata": {},
   "outputs": [],
   "source": [
    "chain2 = RunnableConnector([template2,llm,parser])"
   ]
  },
  {
   "cell_type": "code",
   "execution_count": 70,
   "id": "6c6cbd75",
   "metadata": {},
   "outputs": [],
   "source": [
    "final_chain= RunnableConnector([chain1, chain2])"
   ]
  },
  {
   "cell_type": "code",
   "execution_count": 71,
   "id": "e884d88f",
   "metadata": {},
   "outputs": [
    {
     "data": {
      "text/plain": [
       "'India won the 2023 world cup'"
      ]
     },
     "execution_count": 71,
     "metadata": {},
     "output_type": "execute_result"
    }
   ],
   "source": [
    "final_chain.invoke({'topic':\"India\"})"
   ]
  },
  {
   "cell_type": "code",
   "execution_count": null,
   "id": "4766911b",
   "metadata": {},
   "outputs": [],
   "source": []
  },
  {
   "cell_type": "code",
   "execution_count": null,
   "id": "ccbb761b",
   "metadata": {},
   "outputs": [],
   "source": []
  }
 ],
 "metadata": {
  "kernelspec": {
   "display_name": "venv",
   "language": "python",
   "name": "python3"
  },
  "language_info": {
   "codemirror_mode": {
    "name": "ipython",
    "version": 3
   },
   "file_extension": ".py",
   "mimetype": "text/x-python",
   "name": "python",
   "nbconvert_exporter": "python",
   "pygments_lexer": "ipython3",
   "version": "3.13.1"
  }
 },
 "nbformat": 4,
 "nbformat_minor": 5
}
