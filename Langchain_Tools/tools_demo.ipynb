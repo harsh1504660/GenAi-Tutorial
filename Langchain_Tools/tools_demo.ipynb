{
 "cells": [
  {
   "cell_type": "markdown",
   "id": "53d4bdfd",
   "metadata": {},
   "source": [
    "# Built-in Tool duckduckgo Search"
   ]
  },
  {
   "cell_type": "code",
   "execution_count": null,
   "id": "c6d2e093",
   "metadata": {},
   "outputs": [
    {
     "name": "stdout",
     "output_type": "stream",
     "text": [
      "[{'title': 'India Latest News: Top National Headlines Today ... - The Hindu', 'url': 'https://www.thehindu.com/news/national/', 'content': 'Published Time: Thu, 19 Jun 2025 07:20:06 GMT\\n\\nIndia Latest News: Top National Headlines Today & Breaking News - The Hindu \\n\\n===============\\n\\nJune 19, 2025e-Paper\\n\\nImage 2: The Hindu Logo\\n\\nLOGINAccount\\n\\neBooksSubscribeGIFT FRONT PAGE\\n\\nSearch\\n\\nIndiaWorldMoviesSportDataHealthOpinionScienceBusinessPremium\\n\\nLive Now\\n\\nNews\\n\\nSECTION \\n\\nNewsIndiaWorldStatesCities\\n\\nTOPICS \\n\\nGround ZeroSpotlight [...] #### More stories from India\\n\\nImage 19: Return to frontpage\\n\\n### ‘True crusader for justice’: Rahul Gandhi turns 55, wishes pour in from Congress leaders, PM Modi\\n\\nPTI\\n\\nImage 20: Return to frontpage\\n\\n### Leh-bound IndiGo plane returns to Delhi due to technical issue\\n\\nPTI\\n\\nImage 21: Return to frontpage\\n\\n### Sonia Gandhi stable, recovering well: Hospital\\n\\nPTI\\n\\nImage 22: Return to frontpage\\n\\n### Hope PM will finally agree to debate on China during Parliament’s Monsoon session: Congress\\n\\nPTI\\n\\n[]( [...] IndiaWorldMoviesSportDataHealthOpinionScienceBusinessPremium\\n\\nVideosPodcastPhotosVisual StoriesSpecials\\n\\neBooksCrosswordNewsletterLit For LifeThe Huddle\\n\\nIndia\\n=====\\n\\nImage 11Image 12\\n   News\\n   India\\n   World\\n   States\\n   Cities\\n\\nIndustry\\n\\n### Air India to cut 15% of widebody operated international flights\\n\\nJagriti Chandra\\n\\nIndia\\n\\n### India and Croatia to make long term plans for defence cooperation: PM Modi\\n\\nKallol Bhattacherjee\\n\\nIndia', 'score': 0.7159213}, {'title': 'Latest News, Breaking News, Top News Headlines and Current Affairs', 'url': 'https://timesofindia.indiatimes.com/news', 'content': '- India’s power demand to grow 6-6.5% annually through FY2030, driven by EVs, data centres, green Hydrogen: Icra\\n- ITR deadline extended: Taxpayers may earn more interest, but government could face higher refund burden\\n- Unacademy founders exit operations amid strategic shift; Sumit Jain named CEO: Report\\n- Macy’s beats Q1 estimates but lowers 2025 profit outlook amid tariff impact\\n- Sebi bars former IndusInd Bank CEO Sumant Kathpalia, 4 others from accessing securities markets\\n\\nVIEW MORE', 'score': 0.6152965}, {'title': 'India News | Latest India News Headlines Today and Live Updates ...', 'url': 'https://timesofindia.indiatimes.com/india', 'content': \"Top 5 news of the day: How Indian Army dealt with Pak shelling as part of Operation Sindoor, Uday Singh named first national president of Prashant Kishor's party, and more\\n\\nIndia / May 19, 2025\\n\\nTop 5 news of the day: How Indian Army dealt with Pak shelling as part of Operation Sindoor, Uday Singh named first national president of Prashant Kishor's party, and more [...] Top 5 news of the day: How Indian Army dealt with Pak shelling as part of Operation Sindoor, Uday Singh named first national president of Prashant Kishor's party, and more\\n\\n'TMC MP Yusuf Pathan to opt out of all-party delegation on Operation Sindoor': Report\\n\\n'TMC MP Yusuf Pathan to opt out of all-party delegation on Operation Sindoor': Report\\n\\n'Entire nation is shamed': Supreme Court raps MP minister Vijay Shah for remarks on Colonel Sofiya Qureshi, orders SIT probe [...] - india\\n- Times Evoke\\n- Operation Sindoor\\n- Cancel Patriarchy\\n- Maharashtra\\n- Delhi\\n- Karnataka\\n- Tamil Nadu\\n- Telangana\\n- Uttar Pradesh\\n- West Bengal\\n- Gujarat\\n- Madhya Pradesh\\n- Bihar\\n- Chandigarh\\n- Rajasthan\\n- Arunachal Pradesh\\n- Andhra Pradesh\\n- Assam\\n- Chhattisgarh\\n- Goa\\n- Haryana\\n- Himachal Pradesh\\n- Jammu Kashmir\\n- Jharkhand\\n- Kerala\\n- Manipur\\n- Meghalaya\\n- Mizoram\\n- Nagaland\\n- Odisha\\n- Punjab\\n- Sikkim\\n- Tripura\\n- Uttarakhand\\n- Andaman Nicobar Islands\\n- Dadra Nagar Haveli\\n- Daman Diu\", 'score': 0.6141863}, {'title': 'Latest News Today: Breaking News and Top Headlines from India ...', 'url': 'https://indianexpress.com/', 'content': \"#### ‘We no longer have any association with Anmol Bishnoi’: fresh audio shows rift between Lawrence Bishnoi and Goldy Brar\\n\\n#### After overnight rain, several parts of Shimla left without electricity for 10 hours\\n\\n#### Monsoon set to intensify, yellow alert for heavy rainfall issued in Punjab, Haryana\\n\\nImage 85: The body parts, which reached the 318 mark as of June 18, have been sent to the Forensic Science Laboratory (FSL). [...] #### Changing City: By year-end, new cable-stayed Belasis Bridge likely to ease traffic between Nagpada, Tardeo\\n\\n#### Pumps with IoT sensors: How BMC is planning to tackle waterlogging in Mumbai\\n\\n#### ‘Alarming situation’, says HC on 10 deaths per day in Mumbai local train system; suggests use of automatic doors\\n\\n#### At 3,624 MT, Mumbai airport sees 9% rise in mango exports in April-May\\n\\nImage 82: majumdar [...] #### 318 body parts, 100 phones recovered from flight crash site: Ahmedabad Police Commissioner\\n\\nCommissioner G S Malik clarified that the police's role was limited to examining items recovered from the scene, such as phones, passports, and ornaments.\\n\\n#### Air India plane crash: AI-171 probe looks at Gatwick takeoff incident 5 yrs ago for possible cluesSubscriber Only reports from international laboratories on the Keezhadi excavations, they continue to demand more proof…,” Stalin said.\", 'score': 0.5923135}, {'title': \"India News | Today's Top Stories - Reuters\", 'url': 'https://www.reuters.com/world/india/', 'content': \"in Shanghai\\n    \\n    ChinacategoryChina's Ant Group to sell 4% stake in India's Paytm for $242 million, term sheet shows12:48 PM UTC\\n    \\n   Image 6: Second Test - South Africa v India\\n    \\n    SportscategoryIndia batting great Kohli follows Rohit into test retirement7:48 AM UTC\\n    \\n   Image 7: IMF and World Bank's Spring Meetings 2025 in Washington, D.C.\", 'score': 0.58408195}]\n"
     ]
    }
   ],
   "source": [
    "from langchain_community.tools.tavily_search import TavilySearchResults\n",
    "\n",
    "search_tool = TavilySearchResults(\n",
    "    #tavily_api_key='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')\n",
    "    )\n",
    "res = search_tool.invoke(\"top news in india\")\n",
    "print(res)"
   ]
  },
  {
   "cell_type": "markdown",
   "id": "0f8564ed",
   "metadata": {},
   "source": [
    "# Built in shell tool"
   ]
  },
  {
   "cell_type": "code",
   "execution_count": 8,
   "id": "d33a6831",
   "metadata": {},
   "outputs": [
    {
     "name": "stdout",
     "output_type": "stream",
     "text": [
      "Executing command:\n",
      " ls\n",
      "'ls' is not recognized as an internal or external command,\n",
      "operable program or batch file.\n",
      "\n"
     ]
    },
    {
     "name": "stderr",
     "output_type": "stream",
     "text": [
      "c:\\coding\\GenAI\\Langchain_Models\\venv\\Lib\\site-packages\\langchain_community\\tools\\shell\\tool.py:33: UserWarning: The shell tool has no safeguards by default. Use at your own risk.\n",
      "  warnings.warn(\n"
     ]
    }
   ],
   "source": [
    "from langchain_community.tools import ShellTool\n",
    "\n",
    "shell_tool = ShellTool()\n",
    "\n",
    "result = shell_tool('ls')\n",
    "\n",
    "\n",
    "print(result)"
   ]
  },
  {
   "cell_type": "markdown",
   "id": "cb58328c",
   "metadata": {},
   "source": [
    "# Method 2 - using structuredTool"
   ]
  },
  {
   "cell_type": "code",
   "execution_count": 9,
   "id": "3c2eb425",
   "metadata": {},
   "outputs": [],
   "source": [
    "from langchain.tools import StructuredTool\n",
    "from pydantic import BaseModel, Field"
   ]
  },
  {
   "cell_type": "code",
   "execution_count": 10,
   "id": "a3f4255a",
   "metadata": {},
   "outputs": [],
   "source": [
    "class MultiplyInput(BaseModel):\n",
    "    a: int = Field(required=True, description=\"The first number to add\")\n",
    "    b: int = Field(required=True, description=\"The second number to add\")"
   ]
  },
  {
   "cell_type": "code",
   "execution_count": 11,
   "id": "28e28f54",
   "metadata": {},
   "outputs": [],
   "source": [
    "def multiply_func(a: int, b: int) -> int:\n",
    "    return a * b"
   ]
  },
  {
   "cell_type": "code",
   "execution_count": 12,
   "id": "40ade747",
   "metadata": {},
   "outputs": [],
   "source": [
    "multiply_tool = StructuredTool.from_function(\n",
    "    func=multiply_func,\n",
    "    name=\"multiply\",\n",
    "    description=\"Multiply two numbers\",\n",
    "    args_schema=MultiplyInput\n",
    ")"
   ]
  },
  {
   "cell_type": "code",
   "execution_count": 13,
   "id": "3e7501d0",
   "metadata": {},
   "outputs": [
    {
     "name": "stdout",
     "output_type": "stream",
     "text": [
      "9\n",
      "multiply\n",
      "Multiply two numbers\n",
      "{'a': {'description': 'The first number to add', 'required': True, 'title': 'A', 'type': 'integer'}, 'b': {'description': 'The second number to add', 'required': True, 'title': 'B', 'type': 'integer'}}\n"
     ]
    }
   ],
   "source": [
    "result = multiply_tool.invoke({'a':3, 'b':3})\n",
    "\n",
    "print(result)\n",
    "print(multiply_tool.name)\n",
    "print(multiply_tool.description)\n",
    "print(multiply_tool.args)"
   ]
  },
  {
   "cell_type": "markdown",
   "id": "0ec72e5d",
   "metadata": {},
   "source": [
    "# Method 3 : using Base tool"
   ]
  },
  {
   "cell_type": "code",
   "execution_count": 14,
   "id": "be14d46f",
   "metadata": {},
   "outputs": [],
   "source": [
    "from langchain.tools import BaseTool\n",
    "from typing import Type"
   ]
  },
  {
   "cell_type": "code",
   "execution_count": 15,
   "id": "c69cc93f",
   "metadata": {},
   "outputs": [],
   "source": [
    "# arg schema using pydantic\n",
    "\n",
    "class MultiplyInput(BaseModel):\n",
    "    a: int = Field(required=True, description=\"The first number to add\")\n",
    "    b: int = Field(required=True, description=\"The second number to add\")"
   ]
  },
  {
   "cell_type": "code",
   "execution_count": 16,
   "id": "4aa61a59",
   "metadata": {},
   "outputs": [],
   "source": [
    "class MultiplyTool(BaseTool):\n",
    "    name: str = \"multiply\"\n",
    "    description: str = \"Multiply two numbers\"\n",
    "\n",
    "    args_schema: Type[BaseModel] = MultiplyInput\n",
    "\n",
    "    def _run(self, a: int, b: int) -> int:\n",
    "        return a * b"
   ]
  },
  {
   "cell_type": "code",
   "execution_count": 17,
   "id": "d57f1af4",
   "metadata": {},
   "outputs": [],
   "source": [
    "multiply_tool = MultiplyTool()"
   ]
  },
  {
   "cell_type": "code",
   "execution_count": 18,
   "id": "68992273",
   "metadata": {},
   "outputs": [
    {
     "name": "stdout",
     "output_type": "stream",
     "text": [
      "9\n",
      "multiply\n",
      "Multiply two numbers\n",
      "{'a': {'description': 'The first number to add', 'required': True, 'title': 'A', 'type': 'integer'}, 'b': {'description': 'The second number to add', 'required': True, 'title': 'B', 'type': 'integer'}}\n"
     ]
    }
   ],
   "source": [
    "result = multiply_tool.invoke({'a':3, 'b':3})\n",
    "\n",
    "print(result)\n",
    "print(multiply_tool.name)\n",
    "print(multiply_tool.description)\n",
    "\n",
    "print(multiply_tool.args)"
   ]
  },
  {
   "cell_type": "markdown",
   "id": "c678aed2",
   "metadata": {},
   "source": [
    "# ToolKits"
   ]
  },
  {
   "cell_type": "code",
   "execution_count": 19,
   "id": "0b31e0b4",
   "metadata": {},
   "outputs": [],
   "source": [
    "from langchain_core.tools import tool\n",
    "\n",
    "# Custom tools\n",
    "@tool\n",
    "def add(a: int, b: int) -> int:\n",
    "    \"\"\"Add two numbers\"\"\"\n",
    "    return a + b\n",
    "\n",
    "@tool\n",
    "def multiply(a: int, b: int) -> int:\n",
    "    \"\"\"Multiply two numbers\"\"\"\n",
    "    return a * b"
   ]
  },
  {
   "cell_type": "code",
   "execution_count": 20,
   "id": "073fab05",
   "metadata": {},
   "outputs": [],
   "source": [
    "class MathToolkit:\n",
    "    def get_tools(self):\n",
    "        return [add, multiply]"
   ]
  },
  {
   "cell_type": "code",
   "execution_count": 21,
   "id": "2de0c5bd",
   "metadata": {},
   "outputs": [
    {
     "name": "stdout",
     "output_type": "stream",
     "text": [
      "add => Add two numbers\n",
      "multiply => Multiply two numbers\n"
     ]
    }
   ],
   "source": [
    "toolkit = MathToolkit()\n",
    "tools = toolkit.get_tools()\n",
    "\n",
    "for tool in tools:\n",
    "    print(tool.name, \"=>\", tool.description)\n"
   ]
  },
  {
   "cell_type": "code",
   "execution_count": 23,
   "id": "5a2c1f94",
   "metadata": {},
   "outputs": [
    {
     "data": {
      "text/plain": [
       "StructuredTool(name='add', description='Add two numbers', args_schema=<class 'langchain_core.utils.pydantic.add'>, func=<function add at 0x000001312FD139C0>)"
      ]
     },
     "execution_count": 23,
     "metadata": {},
     "output_type": "execute_result"
    }
   ],
   "source": [
    "tools[0]"
   ]
  },
  {
   "cell_type": "code",
   "execution_count": null,
   "id": "135f63b5",
   "metadata": {},
   "outputs": [],
   "source": []
  }
 ],
 "metadata": {
  "kernelspec": {
   "display_name": "venv",
   "language": "python",
   "name": "python3"
  },
  "language_info": {
   "codemirror_mode": {
    "name": "ipython",
    "version": 3
   },
   "file_extension": ".py",
   "mimetype": "text/x-python",
   "name": "python",
   "nbconvert_exporter": "python",
   "pygments_lexer": "ipython3",
   "version": "3.13.1"
  }
 },
 "nbformat": 4,
 "nbformat_minor": 5
}
